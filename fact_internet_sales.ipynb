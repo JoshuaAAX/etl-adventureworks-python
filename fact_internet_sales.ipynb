{
 "cells": [
  {
   "cell_type": "code",
   "execution_count": null,
   "metadata": {},
   "outputs": [],
   "source": [
    "import yaml\n",
    "import pandas as pd\n",
    "import numpy as np\n",
    "from sqlalchemy import create_engine, inspect\n",
    "from urllib.parse import quote"
   ]
  },
  {
   "cell_type": "code",
   "execution_count": null,
   "metadata": {},
   "outputs": [],
   "source": [
    "with open('./config.yml', 'r') as f:\n",
    "    config = yaml.safe_load(f)\n",
    "    config_oltp= config['AW_OLTP']\n",
    "    config_olap= config['AW_OLAP']\n",
    "    print(config_oltp)"
   ]
  },
  {
   "cell_type": "code",
   "execution_count": null,
   "metadata": {},
   "outputs": [],
   "source": [
    "url_oltp = (f\"{config_oltp['drivername']}://{config_oltp['user']}:{quote(config_oltp['password'])}@{config_oltp['host']}:\"\n",
    "            f\"{config_oltp['port']}/{config_oltp['dbname']}\")\n",
    "url_olap = (f\"{config_olap['drivername']}://{config_olap['user']}:{quote(config_olap['password'])}@{config_olap['host']}:\"\n",
    "            f\"{config_olap['port']}/{config_olap['dbname']}?sslmode=require\")\n",
    "\n",
    "print(url_oltp)\n",
    "print(url_olap)"
   ]
  },
  {
   "cell_type": "code",
   "execution_count": null,
   "metadata": {},
   "outputs": [],
   "source": [
    "oltp = create_engine(url_oltp)\n",
    "olap = create_engine(url_olap)"
   ]
  },
  {
   "cell_type": "code",
   "execution_count": null,
   "metadata": {},
   "outputs": [],
   "source": [
    "inspector_oltp = inspect(oltp)\n",
    "inspector_olap = inspect(olap)"
   ]
  },
  {
   "cell_type": "code",
   "execution_count": null,
   "metadata": {},
   "outputs": [],
   "source": [
    "dim_product = pd.read_sql_table('DimCurrency', oltp, schema='public')\n",
    "dim_date = pd.read_sql_table('DimDate', oltp, schema='public')\n",
    "dim_promotion = pd.read_sql_table('DimPromotion', oltp, schema='public')\n",
    "dim_sales_reason = pd.read_sql_table('DimSalesTerritory', oltp, schema='public')"
   ]
  },
  {
   "cell_type": "code",
   "execution_count": null,
   "metadata": {},
   "outputs": [],
   "source": [
    "fact_internet_sales = pd.read_sql_table('SalesOrderDetail', oltp, schema='Sales')\n",
    "sales_order_header = pd.read_sql_table('SalesOrderHeader', oltp, schema='Sales', columns=['SalesOrderID', 'OrderDate', 'DueDate', 'ShipDate', 'ShipToAddressID', 'BillToAddressID', 'ShipMethodID', 'CreditCardID', 'CurrencyRateID', 'SalesTerritoryID', 'SalesPersonID', 'CustomerID', 'TotalDue'])\n"
   ]
  },
  {
   "cell_type": "code",
   "execution_count": null,
   "metadata": {},
   "outputs": [],
   "source": [
    "fact_internet_sales = fact_internet_sales.merge(sales_order_header, on='SalesOrderID', how='left')\n",
    "fact_internet_sales = fact_internet_sales.merge(dim_product[['ProductAlternativeKey', 'EnglishProductName']], left_on='ProductID', right_index=True, how='left')\n",
    "fact_internet_sales = fact_internet_sales.merge(dim_customer[['CustomerFirstName', 'CustomerLastName']], left_on='CustomerID', right_index=True, how='left')\n",
    "fact_internet_sales = fact_internet_sales.merge(dim_currency[['CurrencyAlternateKey']], left_on='CurrencyRateID', right_index=True, how='left')\n",
    "fact_internet_sales = fact_internet_sales.merge(dim_promotion[['PromotionKey']], left_on='SpecialOfferID', right_index=True, how='left')\n",
    "fact_internet_sales = fact_internet_sales.merge(dim_sales_territory[['SalesTerritoryKey']], left_on='SalesTerritoryID', right_index=True, how='left')\n"
   ]
  },
  {
   "cell_type": "code",
   "execution_count": null,
   "metadata": {},
   "outputs": [],
   "source": [
    "fact_internet_sales = fact_internet_sales.rename(columns={\n",
    "    'SalesOrderID': 'InternetSalesOrderKey',\n",
    "    'OrderDate': 'OrderDate',\n",
    "    'DueDate': 'DueDate',\n",
    "    'ShipDate': 'ShipDate',\n",
    "    'ProductAlternativeKey': 'ProductKey',\n",
    "    'CustomerID': 'CustomerKey',\n",
    "    'CurrencyRateID': 'CurrencyKey',\n",
    "    'SpecialOfferID': 'PromotionKey',\n",
    "    'SalesTerritoryID': 'SalesTerritoryKey',\n",
    "    'TotalDue': 'SalesAmount'\n",
    "})"
   ]
  },
  {
   "cell_type": "code",
   "execution_count": null,
   "metadata": {},
   "outputs": [],
   "source": [
    "fact_internet_sales = fact_internet_sales.drop(columns=['rowguid', 'ModifiedDate', 'ProductID'])"
   ]
  },
  {
   "cell_type": "code",
   "execution_count": null,
   "metadata": {},
   "outputs": [],
   "source": [
    "fact_internet_sales.head()"
   ]
  }
 ],
 "metadata": {
  "kernelspec": {
   "display_name": ".venv",
   "language": "python",
   "name": "python3"
  },
  "language_info": {
   "name": "python",
   "version": "3.12.2"
  }
 },
 "nbformat": 4,
 "nbformat_minor": 2
}
